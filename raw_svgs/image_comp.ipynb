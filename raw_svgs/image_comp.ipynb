{
 "cells": [
  {
   "cell_type": "code",
   "execution_count": 2,
   "metadata": {},
   "outputs": [
    {
     "name": "stderr",
     "output_type": "stream",
     "text": [
      "C:\\Users\\Juhana\\AppData\\Local\\Temp\\ipykernel_18644\\1609989602.py:11: DeprecationWarning: ANTIALIAS is deprecated and will be removed in Pillow 10 (2023-07-01). Use Resampling.LANCZOS instead.\n",
      "  aircraft1 = aircraft1.resize((width, height), Image.ANTIALIAS)\n",
      "C:\\Users\\Juhana\\AppData\\Local\\Temp\\ipykernel_18644\\1609989602.py:12: DeprecationWarning: ANTIALIAS is deprecated and will be removed in Pillow 10 (2023-07-01). Use Resampling.LANCZOS instead.\n",
      "  aircraft2 = aircraft2.resize((width, height), Image.ANTIALIAS)\n"
     ]
    }
   ],
   "source": [
    "\n",
    "# Open the two images\n",
    "aircraft1 = Image.open(\"aircraft1.jpg\")\n",
    "aircraft2 = Image.open(\"aircraft2.jpg\")\n",
    "\n",
    "# Resize the images to have the same dimensions if needed\n",
    "width1, height1 = aircraft1.size\n",
    "width2, height2 = aircraft2.size\n",
    "width = max(width1, width2)\n",
    "height = max(height1, height2)\n",
    "\n",
    "aircraft1 = aircraft1.resize((width, height), Image.ANTIALIAS)\n",
    "aircraft2 = aircraft2.resize((width, height), Image.ANTIALIAS)\n",
    "\n",
    "# Create a blank image with twice the width of the input images\n",
    "composite_image = Image.new(\"RGB\", (width * 2, height))\n",
    "\n",
    "# Paste aircraft1 on the left side of the composite image\n",
    "composite_image.paste(aircraft1, (0, 0))\n",
    "\n",
    "# Paste aircraft2 on the right side of the composite image (without flipping)\n",
    "composite_image.paste(aircraft2, (width, 0))\n",
    "\n",
    "# Save the composite image\n",
    "composite_image.save(\"composite_aircraft.jpg\")"
   ]
  }
 ],
 "metadata": {
  "kernelspec": {
   "display_name": "Python 3",
   "language": "python",
   "name": "python3"
  },
  "language_info": {
   "codemirror_mode": {
    "name": "ipython",
    "version": 3
   },
   "file_extension": ".py",
   "mimetype": "text/x-python",
   "name": "python",
   "nbconvert_exporter": "python",
   "pygments_lexer": "ipython3",
   "version": "3.11.0rc2"
  },
  "orig_nbformat": 4
 },
 "nbformat": 4,
 "nbformat_minor": 2
}
